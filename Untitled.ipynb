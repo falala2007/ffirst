{
 "cells": [
  {
   "cell_type": "code",
   "execution_count": 1,
   "metadata": {},
   "outputs": [
    {
     "data": {
      "text/plain": [
       "mappingproxy({'__module__': '__main__',\n",
       "              'name': 'dadg',\n",
       "              'age': 18,\n",
       "              '__dict__': <attribute '__dict__' of 'A' objects>,\n",
       "              '__weakref__': <attribute '__weakref__' of 'A' objects>,\n",
       "              '__doc__': None})"
      ]
     },
     "execution_count": 1,
     "metadata": {},
     "output_type": "execute_result"
    }
   ],
   "source": [
    "class A():\n",
    "    name = \"dadg\"\n",
    "    age = 18\n",
    "\n",
    "A.__dict__\n"
   ]
  },
  {
   "cell_type": "code",
   "execution_count": 3,
   "metadata": {},
   "outputs": [
    {
     "name": "stdout",
     "output_type": "stream",
     "text": [
      "dadg\n",
      "18\n",
      "81839528\n",
      "502885984\n",
      "********************\n",
      "dadg\n",
      "18\n",
      "81839528\n",
      "502885984\n"
     ]
    }
   ],
   "source": [
    "class A():\n",
    "    name = \"dadg\"\n",
    "    age = 18\n",
    "print(A.name)\n",
    "print(A.age)\n",
    "print(id(A.name))\n",
    "print(id(A.age))\n",
    "print(\"*\"*20)\n",
    "a = A()\n",
    "print(a.name)\n",
    "print(a.age)\n",
    "print(id(a.name))\n",
    "print(id(a.age))"
   ]
  },
  {
   "cell_type": "code",
   "execution_count": 4,
   "metadata": {},
   "outputs": [
    {
     "name": "stdout",
     "output_type": "stream",
     "text": [
      "My name is aaaa\n",
      "My age is 20\n"
     ]
    }
   ],
   "source": [
    "class Student():\n",
    "    name = \"adadad\"\n",
    "    age = 18\n",
    "    def say():\n",
    "        name = \"aaaa\"\n",
    "        age = 20\n",
    "        print(\"My name is {}\".format(name))\n",
    "        print(\"My age is {}\".format(age))\n",
    "        \n",
    "slave = Student()\n",
    "Student.say()"
   ]
  }
 ],
 "metadata": {
  "kernelspec": {
   "display_name": "Python 3",
   "language": "python",
   "name": "python3"
  },
  "language_info": {
   "codemirror_mode": {
    "name": "ipython",
    "version": 3
   },
   "file_extension": ".py",
   "mimetype": "text/x-python",
   "name": "python",
   "nbconvert_exporter": "python",
   "pygments_lexer": "ipython3",
   "version": "3.6.5"
  }
 },
 "nbformat": 4,
 "nbformat_minor": 2
}
